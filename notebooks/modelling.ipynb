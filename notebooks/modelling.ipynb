{
 "cells": [
  {
   "cell_type": "markdown",
   "id": "d3e24e3e",
   "metadata": {},
   "source": [
    "# Day 1 recap"
   ]
  },
  {
   "cell_type": "markdown",
   "id": "45a4f4b8",
   "metadata": {},
   "source": [
    "## Load data"
   ]
  },
  {
   "cell_type": "code",
   "execution_count": 1,
   "id": "ee59232f",
   "metadata": {},
   "outputs": [
    {
     "data": {
      "text/html": [
       "<div>\n",
       "<style scoped>\n",
       "    .dataframe tbody tr th:only-of-type {\n",
       "        vertical-align: middle;\n",
       "    }\n",
       "\n",
       "    .dataframe tbody tr th {\n",
       "        vertical-align: top;\n",
       "    }\n",
       "\n",
       "    .dataframe thead th {\n",
       "        text-align: right;\n",
       "    }\n",
       "</style>\n",
       "<table border=\"1\" class=\"dataframe\">\n",
       "  <thead>\n",
       "    <tr style=\"text-align: right;\">\n",
       "      <th></th>\n",
       "      <th>key</th>\n",
       "      <th>fare_amount</th>\n",
       "      <th>pickup_datetime</th>\n",
       "      <th>pickup_longitude</th>\n",
       "      <th>pickup_latitude</th>\n",
       "      <th>dropoff_longitude</th>\n",
       "      <th>dropoff_latitude</th>\n",
       "      <th>passenger_count</th>\n",
       "    </tr>\n",
       "  </thead>\n",
       "  <tbody>\n",
       "    <tr>\n",
       "      <th>0</th>\n",
       "      <td>2009-06-15 17:26:21.0000001</td>\n",
       "      <td>4.5</td>\n",
       "      <td>2009-06-15 17:26:21 UTC</td>\n",
       "      <td>-73.844311</td>\n",
       "      <td>40.721319</td>\n",
       "      <td>-73.841610</td>\n",
       "      <td>40.712278</td>\n",
       "      <td>1</td>\n",
       "    </tr>\n",
       "    <tr>\n",
       "      <th>1</th>\n",
       "      <td>2010-01-05 16:52:16.0000002</td>\n",
       "      <td>16.9</td>\n",
       "      <td>2010-01-05 16:52:16 UTC</td>\n",
       "      <td>-74.016048</td>\n",
       "      <td>40.711303</td>\n",
       "      <td>-73.979268</td>\n",
       "      <td>40.782004</td>\n",
       "      <td>1</td>\n",
       "    </tr>\n",
       "    <tr>\n",
       "      <th>2</th>\n",
       "      <td>2011-08-18 00:35:00.00000049</td>\n",
       "      <td>5.7</td>\n",
       "      <td>2011-08-18 00:35:00 UTC</td>\n",
       "      <td>-73.982738</td>\n",
       "      <td>40.761270</td>\n",
       "      <td>-73.991242</td>\n",
       "      <td>40.750562</td>\n",
       "      <td>2</td>\n",
       "    </tr>\n",
       "    <tr>\n",
       "      <th>3</th>\n",
       "      <td>2012-04-21 04:30:42.0000001</td>\n",
       "      <td>7.7</td>\n",
       "      <td>2012-04-21 04:30:42 UTC</td>\n",
       "      <td>-73.987130</td>\n",
       "      <td>40.733143</td>\n",
       "      <td>-73.991567</td>\n",
       "      <td>40.758092</td>\n",
       "      <td>1</td>\n",
       "    </tr>\n",
       "    <tr>\n",
       "      <th>4</th>\n",
       "      <td>2010-03-09 07:51:00.000000135</td>\n",
       "      <td>5.3</td>\n",
       "      <td>2010-03-09 07:51:00 UTC</td>\n",
       "      <td>-73.968095</td>\n",
       "      <td>40.768008</td>\n",
       "      <td>-73.956655</td>\n",
       "      <td>40.783762</td>\n",
       "      <td>1</td>\n",
       "    </tr>\n",
       "  </tbody>\n",
       "</table>\n",
       "</div>"
      ],
      "text/plain": [
       "                             key  fare_amount          pickup_datetime  \\\n",
       "0    2009-06-15 17:26:21.0000001          4.5  2009-06-15 17:26:21 UTC   \n",
       "1    2010-01-05 16:52:16.0000002         16.9  2010-01-05 16:52:16 UTC   \n",
       "2   2011-08-18 00:35:00.00000049          5.7  2011-08-18 00:35:00 UTC   \n",
       "3    2012-04-21 04:30:42.0000001          7.7  2012-04-21 04:30:42 UTC   \n",
       "4  2010-03-09 07:51:00.000000135          5.3  2010-03-09 07:51:00 UTC   \n",
       "\n",
       "   pickup_longitude  pickup_latitude  dropoff_longitude  dropoff_latitude  \\\n",
       "0        -73.844311        40.721319         -73.841610         40.712278   \n",
       "1        -74.016048        40.711303         -73.979268         40.782004   \n",
       "2        -73.982738        40.761270         -73.991242         40.750562   \n",
       "3        -73.987130        40.733143         -73.991567         40.758092   \n",
       "4        -73.968095        40.768008         -73.956655         40.783762   \n",
       "\n",
       "   passenger_count  \n",
       "0                1  \n",
       "1                1  \n",
       "2                2  \n",
       "3                1  \n",
       "4                1  "
      ]
     },
     "execution_count": 1,
     "metadata": {},
     "output_type": "execute_result"
    }
   ],
   "source": [
    "import pandas as pd\n",
    "\n",
    "data = pd.read_csv(\"../data/taxi_1k.csv\")\n",
    "\n",
    "data.head()"
   ]
  },
  {
   "cell_type": "markdown",
   "id": "1ac5ddfb",
   "metadata": {
    "heading_collapsed": true
   },
   "source": [
    "## Feature engineering distances"
   ]
  },
  {
   "cell_type": "markdown",
   "id": "28b4171a",
   "metadata": {
    "hidden": true
   },
   "source": [
    "### Manhattan distance "
   ]
  },
  {
   "cell_type": "markdown",
   "id": "f84ac169",
   "metadata": {
    "hidden": true
   },
   "source": [
    "[Manhattan distance](https://datagy.io/manhattan-distance-python/#:~:text=In%20a%20two%2Ddimensional%20space,%2B%20%7Cy2%20%2D%20y1%7C%20.)"
   ]
  },
  {
   "cell_type": "code",
   "execution_count": 2,
   "id": "ed62ad41",
   "metadata": {
    "hidden": true
   },
   "outputs": [],
   "source": [
    "import numpy as np\n",
    "\n",
    "def manhattan_distance(lon1, lat1, lon2, lat2):\n",
    "    \n",
    "    distance = np.abs(lon1 - lon2) + np.abs(lat1 - lat2)\n",
    "    \n",
    "    return distance"
   ]
  },
  {
   "cell_type": "code",
   "execution_count": 3,
   "id": "726a72ee",
   "metadata": {
    "hidden": true
   },
   "outputs": [
    {
     "data": {
      "text/html": [
       "<div>\n",
       "<style scoped>\n",
       "    .dataframe tbody tr th:only-of-type {\n",
       "        vertical-align: middle;\n",
       "    }\n",
       "\n",
       "    .dataframe tbody tr th {\n",
       "        vertical-align: top;\n",
       "    }\n",
       "\n",
       "    .dataframe thead th {\n",
       "        text-align: right;\n",
       "    }\n",
       "</style>\n",
       "<table border=\"1\" class=\"dataframe\">\n",
       "  <thead>\n",
       "    <tr style=\"text-align: right;\">\n",
       "      <th></th>\n",
       "      <th>key</th>\n",
       "      <th>fare_amount</th>\n",
       "      <th>pickup_datetime</th>\n",
       "      <th>pickup_longitude</th>\n",
       "      <th>pickup_latitude</th>\n",
       "      <th>dropoff_longitude</th>\n",
       "      <th>dropoff_latitude</th>\n",
       "      <th>passenger_count</th>\n",
       "      <th>manhattan_distance</th>\n",
       "    </tr>\n",
       "  </thead>\n",
       "  <tbody>\n",
       "    <tr>\n",
       "      <th>0</th>\n",
       "      <td>2009-06-15 17:26:21.0000001</td>\n",
       "      <td>4.5</td>\n",
       "      <td>2009-06-15 17:26:21 UTC</td>\n",
       "      <td>-73.844311</td>\n",
       "      <td>40.721319</td>\n",
       "      <td>-73.841610</td>\n",
       "      <td>40.712278</td>\n",
       "      <td>1</td>\n",
       "      <td>0.011742</td>\n",
       "    </tr>\n",
       "    <tr>\n",
       "      <th>1</th>\n",
       "      <td>2010-01-05 16:52:16.0000002</td>\n",
       "      <td>16.9</td>\n",
       "      <td>2010-01-05 16:52:16 UTC</td>\n",
       "      <td>-74.016048</td>\n",
       "      <td>40.711303</td>\n",
       "      <td>-73.979268</td>\n",
       "      <td>40.782004</td>\n",
       "      <td>1</td>\n",
       "      <td>0.107481</td>\n",
       "    </tr>\n",
       "    <tr>\n",
       "      <th>2</th>\n",
       "      <td>2011-08-18 00:35:00.00000049</td>\n",
       "      <td>5.7</td>\n",
       "      <td>2011-08-18 00:35:00 UTC</td>\n",
       "      <td>-73.982738</td>\n",
       "      <td>40.761270</td>\n",
       "      <td>-73.991242</td>\n",
       "      <td>40.750562</td>\n",
       "      <td>2</td>\n",
       "      <td>0.019212</td>\n",
       "    </tr>\n",
       "    <tr>\n",
       "      <th>3</th>\n",
       "      <td>2012-04-21 04:30:42.0000001</td>\n",
       "      <td>7.7</td>\n",
       "      <td>2012-04-21 04:30:42 UTC</td>\n",
       "      <td>-73.987130</td>\n",
       "      <td>40.733143</td>\n",
       "      <td>-73.991567</td>\n",
       "      <td>40.758092</td>\n",
       "      <td>1</td>\n",
       "      <td>0.029386</td>\n",
       "    </tr>\n",
       "    <tr>\n",
       "      <th>4</th>\n",
       "      <td>2010-03-09 07:51:00.000000135</td>\n",
       "      <td>5.3</td>\n",
       "      <td>2010-03-09 07:51:00 UTC</td>\n",
       "      <td>-73.968095</td>\n",
       "      <td>40.768008</td>\n",
       "      <td>-73.956655</td>\n",
       "      <td>40.783762</td>\n",
       "      <td>1</td>\n",
       "      <td>0.027194</td>\n",
       "    </tr>\n",
       "  </tbody>\n",
       "</table>\n",
       "</div>"
      ],
      "text/plain": [
       "                             key  fare_amount          pickup_datetime  \\\n",
       "0    2009-06-15 17:26:21.0000001          4.5  2009-06-15 17:26:21 UTC   \n",
       "1    2010-01-05 16:52:16.0000002         16.9  2010-01-05 16:52:16 UTC   \n",
       "2   2011-08-18 00:35:00.00000049          5.7  2011-08-18 00:35:00 UTC   \n",
       "3    2012-04-21 04:30:42.0000001          7.7  2012-04-21 04:30:42 UTC   \n",
       "4  2010-03-09 07:51:00.000000135          5.3  2010-03-09 07:51:00 UTC   \n",
       "\n",
       "   pickup_longitude  pickup_latitude  dropoff_longitude  dropoff_latitude  \\\n",
       "0        -73.844311        40.721319         -73.841610         40.712278   \n",
       "1        -74.016048        40.711303         -73.979268         40.782004   \n",
       "2        -73.982738        40.761270         -73.991242         40.750562   \n",
       "3        -73.987130        40.733143         -73.991567         40.758092   \n",
       "4        -73.968095        40.768008         -73.956655         40.783762   \n",
       "\n",
       "   passenger_count  manhattan_distance  \n",
       "0                1            0.011742  \n",
       "1                1            0.107481  \n",
       "2                2            0.019212  \n",
       "3                1            0.029386  \n",
       "4                1            0.027194  "
      ]
     },
     "execution_count": 3,
     "metadata": {},
     "output_type": "execute_result"
    }
   ],
   "source": [
    "data['manhattan_distance'] = manhattan_distance(\n",
    "    data.pickup_longitude,\n",
    "    data.pickup_latitude,\n",
    "    data.dropoff_longitude,\n",
    "    data.dropoff_latitude)\n",
    "\n",
    "data.head()"
   ]
  },
  {
   "cell_type": "markdown",
   "id": "c78420c9",
   "metadata": {
    "hidden": true
   },
   "source": [
    "### Euclidean distance"
   ]
  },
  {
   "cell_type": "markdown",
   "id": "608d5492",
   "metadata": {
    "hidden": true
   },
   "source": [
    "[Euclidean distance](https://datascienceparichay.com/article/distance-between-two-points-python/)"
   ]
  },
  {
   "cell_type": "code",
   "execution_count": 4,
   "id": "75c2e2f3",
   "metadata": {
    "hidden": true
   },
   "outputs": [],
   "source": [
    "def euclidean_distance(lon1, lat1, lon2, lat2):\n",
    "\n",
    "    distance = ((lon1 - lon2)**2 + (lat1 - lat2)**2)**0.5\n",
    "    \n",
    "    return distance"
   ]
  },
  {
   "cell_type": "code",
   "execution_count": 5,
   "id": "ef752234",
   "metadata": {
    "hidden": true
   },
   "outputs": [
    {
     "data": {
      "text/html": [
       "<div>\n",
       "<style scoped>\n",
       "    .dataframe tbody tr th:only-of-type {\n",
       "        vertical-align: middle;\n",
       "    }\n",
       "\n",
       "    .dataframe tbody tr th {\n",
       "        vertical-align: top;\n",
       "    }\n",
       "\n",
       "    .dataframe thead th {\n",
       "        text-align: right;\n",
       "    }\n",
       "</style>\n",
       "<table border=\"1\" class=\"dataframe\">\n",
       "  <thead>\n",
       "    <tr style=\"text-align: right;\">\n",
       "      <th></th>\n",
       "      <th>key</th>\n",
       "      <th>fare_amount</th>\n",
       "      <th>pickup_datetime</th>\n",
       "      <th>pickup_longitude</th>\n",
       "      <th>pickup_latitude</th>\n",
       "      <th>dropoff_longitude</th>\n",
       "      <th>dropoff_latitude</th>\n",
       "      <th>passenger_count</th>\n",
       "      <th>manhattan_distance</th>\n",
       "      <th>euclidean_distance</th>\n",
       "    </tr>\n",
       "  </thead>\n",
       "  <tbody>\n",
       "    <tr>\n",
       "      <th>0</th>\n",
       "      <td>2009-06-15 17:26:21.0000001</td>\n",
       "      <td>4.5</td>\n",
       "      <td>2009-06-15 17:26:21 UTC</td>\n",
       "      <td>-73.844311</td>\n",
       "      <td>40.721319</td>\n",
       "      <td>-73.841610</td>\n",
       "      <td>40.712278</td>\n",
       "      <td>1</td>\n",
       "      <td>0.011742</td>\n",
       "      <td>0.009436</td>\n",
       "    </tr>\n",
       "    <tr>\n",
       "      <th>1</th>\n",
       "      <td>2010-01-05 16:52:16.0000002</td>\n",
       "      <td>16.9</td>\n",
       "      <td>2010-01-05 16:52:16 UTC</td>\n",
       "      <td>-74.016048</td>\n",
       "      <td>40.711303</td>\n",
       "      <td>-73.979268</td>\n",
       "      <td>40.782004</td>\n",
       "      <td>1</td>\n",
       "      <td>0.107481</td>\n",
       "      <td>0.079696</td>\n",
       "    </tr>\n",
       "    <tr>\n",
       "      <th>2</th>\n",
       "      <td>2011-08-18 00:35:00.00000049</td>\n",
       "      <td>5.7</td>\n",
       "      <td>2011-08-18 00:35:00 UTC</td>\n",
       "      <td>-73.982738</td>\n",
       "      <td>40.761270</td>\n",
       "      <td>-73.991242</td>\n",
       "      <td>40.750562</td>\n",
       "      <td>2</td>\n",
       "      <td>0.019212</td>\n",
       "      <td>0.013674</td>\n",
       "    </tr>\n",
       "    <tr>\n",
       "      <th>3</th>\n",
       "      <td>2012-04-21 04:30:42.0000001</td>\n",
       "      <td>7.7</td>\n",
       "      <td>2012-04-21 04:30:42 UTC</td>\n",
       "      <td>-73.987130</td>\n",
       "      <td>40.733143</td>\n",
       "      <td>-73.991567</td>\n",
       "      <td>40.758092</td>\n",
       "      <td>1</td>\n",
       "      <td>0.029386</td>\n",
       "      <td>0.025340</td>\n",
       "    </tr>\n",
       "    <tr>\n",
       "      <th>4</th>\n",
       "      <td>2010-03-09 07:51:00.000000135</td>\n",
       "      <td>5.3</td>\n",
       "      <td>2010-03-09 07:51:00 UTC</td>\n",
       "      <td>-73.968095</td>\n",
       "      <td>40.768008</td>\n",
       "      <td>-73.956655</td>\n",
       "      <td>40.783762</td>\n",
       "      <td>1</td>\n",
       "      <td>0.027194</td>\n",
       "      <td>0.019470</td>\n",
       "    </tr>\n",
       "  </tbody>\n",
       "</table>\n",
       "</div>"
      ],
      "text/plain": [
       "                             key  fare_amount          pickup_datetime  \\\n",
       "0    2009-06-15 17:26:21.0000001          4.5  2009-06-15 17:26:21 UTC   \n",
       "1    2010-01-05 16:52:16.0000002         16.9  2010-01-05 16:52:16 UTC   \n",
       "2   2011-08-18 00:35:00.00000049          5.7  2011-08-18 00:35:00 UTC   \n",
       "3    2012-04-21 04:30:42.0000001          7.7  2012-04-21 04:30:42 UTC   \n",
       "4  2010-03-09 07:51:00.000000135          5.3  2010-03-09 07:51:00 UTC   \n",
       "\n",
       "   pickup_longitude  pickup_latitude  dropoff_longitude  dropoff_latitude  \\\n",
       "0        -73.844311        40.721319         -73.841610         40.712278   \n",
       "1        -74.016048        40.711303         -73.979268         40.782004   \n",
       "2        -73.982738        40.761270         -73.991242         40.750562   \n",
       "3        -73.987130        40.733143         -73.991567         40.758092   \n",
       "4        -73.968095        40.768008         -73.956655         40.783762   \n",
       "\n",
       "   passenger_count  manhattan_distance  euclidean_distance  \n",
       "0                1            0.011742            0.009436  \n",
       "1                1            0.107481            0.079696  \n",
       "2                2            0.019212            0.013674  \n",
       "3                1            0.029386            0.025340  \n",
       "4                1            0.027194            0.019470  "
      ]
     },
     "execution_count": 5,
     "metadata": {},
     "output_type": "execute_result"
    }
   ],
   "source": [
    "data['euclidean_distance'] = euclidean_distance(\n",
    "    data.pickup_longitude,\n",
    "    data.pickup_latitude,\n",
    "    data.dropoff_longitude,\n",
    "    data.dropoff_latitude)\n",
    "\n",
    "data.head()"
   ]
  },
  {
   "cell_type": "markdown",
   "id": "4b1b7e5b",
   "metadata": {},
   "source": [
    "## Packaging the distance functions"
   ]
  },
  {
   "cell_type": "markdown",
   "id": "24029c35",
   "metadata": {},
   "source": [
    "### `distance_functions.py`"
   ]
  },
  {
   "cell_type": "markdown",
   "id": "d31cd4c4",
   "metadata": {},
   "source": [
    "Move the distance functions to a `distance_functions.py` file in a `taxi_package` folder"
   ]
  },
  {
   "cell_type": "markdown",
   "id": "cc1d94de",
   "metadata": {},
   "source": [
    "```python\n",
    "import numpy as np\n",
    "\n",
    "def manhattan(lon1, lat1, lon2, lat2):\n",
    "\n",
    "    distance = np.abs(lon1 - lon2) + np.abs(lat1 - lat2)\n",
    "\n",
    "    return distance\n",
    "\n",
    "\n",
    "def euclidean(lon1, lat1, lon2, lat2):\n",
    "\n",
    "    distance = ((lon1 - lon2)**2 + (lat1 - lat2)**2)**0.5\n",
    "\n",
    "    return distance\n",
    "\n",
    "```"
   ]
  },
  {
   "cell_type": "markdown",
   "id": "0005bab6",
   "metadata": {},
   "source": [
    "### Make a script `me-2-mahnattan`"
   ]
  },
  {
   "cell_type": "markdown",
   "id": "2fa3b8ac",
   "metadata": {},
   "source": [
    "Create a `scripts` folder in the root directory in which you can create a python script `me-2-mahnattan`.\n",
    "\n",
    "⚠️ A script must have the following header to be decoded correctly by your computer:"
   ]
  },
  {
   "cell_type": "code",
   "execution_count": 24,
   "id": "a6dba3f8",
   "metadata": {},
   "outputs": [],
   "source": [
    "#!/usr/bin/env python\n",
    "# -*- coding: utf-8 -*-"
   ]
  },
  {
   "cell_type": "markdown",
   "id": "9e1a85d3",
   "metadata": {},
   "source": [
    "After which, you can write any python code. \n",
    "\n",
    "Let's write a script that calculates the Manhattan distance between me and Manhattan, regardless of where I am.\n",
    "\n",
    "We can use the [`geocoder`](https://pypi.org/project/geocoder/0.6.0/) package for that. "
   ]
  },
  {
   "cell_type": "code",
   "execution_count": 32,
   "id": "9491d996",
   "metadata": {},
   "outputs": [
    {
     "name": "stdout",
     "output_type": "stream",
     "text": [
      "The Manhattan distance between me and Manhattan is 188.87189999999998\n"
     ]
    }
   ],
   "source": [
    "import geocoder\n",
    "\n",
    "from taxi_package.distances import manhattan\n",
    "\n",
    "# My location using geocoder\n",
    "my_loc = geocoder.ip('me')\n",
    "\n",
    "my_lat = my_loc.latlng[0]\n",
    "\n",
    "my_lon = my_loc.latlng[1]\n",
    "\n",
    "# Manhattan's geolocation\n",
    "manhattan_lon = 40.7831\n",
    "\n",
    "manhattan_lat = 73.9712\n",
    "\n",
    "# Calculate distance between me and manhattan using our manhattan function :D\n",
    "me_to_manhattan = manhattan(my_lon, my_lat, manhattan_lon, manhattan_lat)\n",
    "\n",
    "print(f\"The Manhattan distance between me and Manhattan is {me_to_manhattan}\")\n"
   ]
  },
  {
   "cell_type": "markdown",
   "id": "cc1cba01",
   "metadata": {},
   "source": [
    "### `setup.py`"
   ]
  },
  {
   "cell_type": "markdown",
   "id": "76294d2b",
   "metadata": {},
   "source": [
    "Create a `setup.py` file in the root folder."
   ]
  },
  {
   "cell_type": "markdown",
   "id": "bd681c13",
   "metadata": {},
   "source": [
    "```python\n",
    "from setuptools import setup\n",
    "from setuptools import find_packages\n",
    "\n",
    "# list dependencies from file\n",
    "with open('requirements.txt') as f:\n",
    "    content = f.readlines()\n",
    "    requirements = [x.strip() for x in content]\n",
    "\n",
    "setup(name='taxi_package', # To find the package name within the folder\n",
    "      description=\"functions for taxi project\", # Whatever you want\n",
    "      packages=find_packages(),\n",
    "      install_requires=requirements, # To list the necessary libraries\n",
    "      scripts=['scripts/me-2-manhattan']) # If you want to install any python script\n",
    "\n",
    "\n",
    "```"
   ]
  },
  {
   "cell_type": "markdown",
   "id": "d34eb0cb",
   "metadata": {},
   "source": [
    "### `requirements.txt`"
   ]
  },
  {
   "cell_type": "markdown",
   "id": "37b62242",
   "metadata": {},
   "source": [
    "Add `numpy` and `geocoder` to the requirements file, as they are necessary for the package."
   ]
  },
  {
   "cell_type": "markdown",
   "id": "8074224d",
   "metadata": {},
   "source": [
    "### Install!"
   ]
  },
  {
   "cell_type": "markdown",
   "id": "e9bd645f",
   "metadata": {},
   "source": [
    "By installing using the -e flag, you do not need to reinstall for changes in the code to be effective. The only case where you need to reinstall is if you create new scripts."
   ]
  },
  {
   "cell_type": "markdown",
   "id": "989574ae",
   "metadata": {},
   "source": [
    "```bash\n",
    "pip install -e .  \n",
    "```"
   ]
  },
  {
   "cell_type": "markdown",
   "id": "462a1995",
   "metadata": {},
   "source": [
    "### Makefile shortcut"
   ]
  },
  {
   "cell_type": "markdown",
   "id": "26fbae14",
   "metadata": {},
   "source": [
    "You can also create a `make` alias in the `Makefile`"
   ]
  },
  {
   "cell_type": "markdown",
   "id": "fdf426f9",
   "metadata": {},
   "source": [
    "```bash\n",
    "install:\n",
    "    pip install -e .\n",
    "```"
   ]
  },
  {
   "cell_type": "markdown",
   "id": "2120d9d5",
   "metadata": {
    "heading_collapsed": true
   },
   "source": [
    "## Use the package"
   ]
  },
  {
   "cell_type": "code",
   "execution_count": 17,
   "id": "44c6e187",
   "metadata": {
    "hidden": true
   },
   "outputs": [
    {
     "data": {
      "text/html": [
       "<div>\n",
       "<style scoped>\n",
       "    .dataframe tbody tr th:only-of-type {\n",
       "        vertical-align: middle;\n",
       "    }\n",
       "\n",
       "    .dataframe tbody tr th {\n",
       "        vertical-align: top;\n",
       "    }\n",
       "\n",
       "    .dataframe thead th {\n",
       "        text-align: right;\n",
       "    }\n",
       "</style>\n",
       "<table border=\"1\" class=\"dataframe\">\n",
       "  <thead>\n",
       "    <tr style=\"text-align: right;\">\n",
       "      <th></th>\n",
       "      <th>key</th>\n",
       "      <th>fare_amount</th>\n",
       "      <th>pickup_datetime</th>\n",
       "      <th>pickup_longitude</th>\n",
       "      <th>pickup_latitude</th>\n",
       "      <th>dropoff_longitude</th>\n",
       "      <th>dropoff_latitude</th>\n",
       "      <th>passenger_count</th>\n",
       "    </tr>\n",
       "  </thead>\n",
       "  <tbody>\n",
       "    <tr>\n",
       "      <th>0</th>\n",
       "      <td>2009-06-15 17:26:21.0000001</td>\n",
       "      <td>4.5</td>\n",
       "      <td>2009-06-15 17:26:21 UTC</td>\n",
       "      <td>-73.844311</td>\n",
       "      <td>40.721319</td>\n",
       "      <td>-73.841610</td>\n",
       "      <td>40.712278</td>\n",
       "      <td>1</td>\n",
       "    </tr>\n",
       "    <tr>\n",
       "      <th>1</th>\n",
       "      <td>2010-01-05 16:52:16.0000002</td>\n",
       "      <td>16.9</td>\n",
       "      <td>2010-01-05 16:52:16 UTC</td>\n",
       "      <td>-74.016048</td>\n",
       "      <td>40.711303</td>\n",
       "      <td>-73.979268</td>\n",
       "      <td>40.782004</td>\n",
       "      <td>1</td>\n",
       "    </tr>\n",
       "    <tr>\n",
       "      <th>2</th>\n",
       "      <td>2011-08-18 00:35:00.00000049</td>\n",
       "      <td>5.7</td>\n",
       "      <td>2011-08-18 00:35:00 UTC</td>\n",
       "      <td>-73.982738</td>\n",
       "      <td>40.761270</td>\n",
       "      <td>-73.991242</td>\n",
       "      <td>40.750562</td>\n",
       "      <td>2</td>\n",
       "    </tr>\n",
       "    <tr>\n",
       "      <th>3</th>\n",
       "      <td>2012-04-21 04:30:42.0000001</td>\n",
       "      <td>7.7</td>\n",
       "      <td>2012-04-21 04:30:42 UTC</td>\n",
       "      <td>-73.987130</td>\n",
       "      <td>40.733143</td>\n",
       "      <td>-73.991567</td>\n",
       "      <td>40.758092</td>\n",
       "      <td>1</td>\n",
       "    </tr>\n",
       "    <tr>\n",
       "      <th>4</th>\n",
       "      <td>2010-03-09 07:51:00.000000135</td>\n",
       "      <td>5.3</td>\n",
       "      <td>2010-03-09 07:51:00 UTC</td>\n",
       "      <td>-73.968095</td>\n",
       "      <td>40.768008</td>\n",
       "      <td>-73.956655</td>\n",
       "      <td>40.783762</td>\n",
       "      <td>1</td>\n",
       "    </tr>\n",
       "  </tbody>\n",
       "</table>\n",
       "</div>"
      ],
      "text/plain": [
       "                             key  fare_amount          pickup_datetime  \\\n",
       "0    2009-06-15 17:26:21.0000001          4.5  2009-06-15 17:26:21 UTC   \n",
       "1    2010-01-05 16:52:16.0000002         16.9  2010-01-05 16:52:16 UTC   \n",
       "2   2011-08-18 00:35:00.00000049          5.7  2011-08-18 00:35:00 UTC   \n",
       "3    2012-04-21 04:30:42.0000001          7.7  2012-04-21 04:30:42 UTC   \n",
       "4  2010-03-09 07:51:00.000000135          5.3  2010-03-09 07:51:00 UTC   \n",
       "\n",
       "   pickup_longitude  pickup_latitude  dropoff_longitude  dropoff_latitude  \\\n",
       "0        -73.844311        40.721319         -73.841610         40.712278   \n",
       "1        -74.016048        40.711303         -73.979268         40.782004   \n",
       "2        -73.982738        40.761270         -73.991242         40.750562   \n",
       "3        -73.987130        40.733143         -73.991567         40.758092   \n",
       "4        -73.968095        40.768008         -73.956655         40.783762   \n",
       "\n",
       "   passenger_count  \n",
       "0                1  \n",
       "1                1  \n",
       "2                2  \n",
       "3                1  \n",
       "4                1  "
      ]
     },
     "execution_count": 17,
     "metadata": {},
     "output_type": "execute_result"
    }
   ],
   "source": [
    "data = pd.read_csv(\"../data/taxi_1k.csv\")\n",
    "\n",
    "data.head()"
   ]
  },
  {
   "cell_type": "markdown",
   "id": "9fe3675e",
   "metadata": {
    "hidden": true
   },
   "source": [
    "You can import your functions in a python compiler"
   ]
  },
  {
   "cell_type": "code",
   "execution_count": 18,
   "id": "03e15dd8",
   "metadata": {
    "hidden": true,
    "scrolled": true
   },
   "outputs": [
    {
     "data": {
      "text/html": [
       "<div>\n",
       "<style scoped>\n",
       "    .dataframe tbody tr th:only-of-type {\n",
       "        vertical-align: middle;\n",
       "    }\n",
       "\n",
       "    .dataframe tbody tr th {\n",
       "        vertical-align: top;\n",
       "    }\n",
       "\n",
       "    .dataframe thead th {\n",
       "        text-align: right;\n",
       "    }\n",
       "</style>\n",
       "<table border=\"1\" class=\"dataframe\">\n",
       "  <thead>\n",
       "    <tr style=\"text-align: right;\">\n",
       "      <th></th>\n",
       "      <th>key</th>\n",
       "      <th>fare_amount</th>\n",
       "      <th>pickup_datetime</th>\n",
       "      <th>pickup_longitude</th>\n",
       "      <th>pickup_latitude</th>\n",
       "      <th>dropoff_longitude</th>\n",
       "      <th>dropoff_latitude</th>\n",
       "      <th>passenger_count</th>\n",
       "      <th>euclidean_distance</th>\n",
       "    </tr>\n",
       "  </thead>\n",
       "  <tbody>\n",
       "    <tr>\n",
       "      <th>0</th>\n",
       "      <td>2009-06-15 17:26:21.0000001</td>\n",
       "      <td>4.5</td>\n",
       "      <td>2009-06-15 17:26:21 UTC</td>\n",
       "      <td>-73.844311</td>\n",
       "      <td>40.721319</td>\n",
       "      <td>-73.841610</td>\n",
       "      <td>40.712278</td>\n",
       "      <td>1</td>\n",
       "      <td>0.009436</td>\n",
       "    </tr>\n",
       "    <tr>\n",
       "      <th>1</th>\n",
       "      <td>2010-01-05 16:52:16.0000002</td>\n",
       "      <td>16.9</td>\n",
       "      <td>2010-01-05 16:52:16 UTC</td>\n",
       "      <td>-74.016048</td>\n",
       "      <td>40.711303</td>\n",
       "      <td>-73.979268</td>\n",
       "      <td>40.782004</td>\n",
       "      <td>1</td>\n",
       "      <td>0.079696</td>\n",
       "    </tr>\n",
       "    <tr>\n",
       "      <th>2</th>\n",
       "      <td>2011-08-18 00:35:00.00000049</td>\n",
       "      <td>5.7</td>\n",
       "      <td>2011-08-18 00:35:00 UTC</td>\n",
       "      <td>-73.982738</td>\n",
       "      <td>40.761270</td>\n",
       "      <td>-73.991242</td>\n",
       "      <td>40.750562</td>\n",
       "      <td>2</td>\n",
       "      <td>0.013674</td>\n",
       "    </tr>\n",
       "    <tr>\n",
       "      <th>3</th>\n",
       "      <td>2012-04-21 04:30:42.0000001</td>\n",
       "      <td>7.7</td>\n",
       "      <td>2012-04-21 04:30:42 UTC</td>\n",
       "      <td>-73.987130</td>\n",
       "      <td>40.733143</td>\n",
       "      <td>-73.991567</td>\n",
       "      <td>40.758092</td>\n",
       "      <td>1</td>\n",
       "      <td>0.025340</td>\n",
       "    </tr>\n",
       "    <tr>\n",
       "      <th>4</th>\n",
       "      <td>2010-03-09 07:51:00.000000135</td>\n",
       "      <td>5.3</td>\n",
       "      <td>2010-03-09 07:51:00 UTC</td>\n",
       "      <td>-73.968095</td>\n",
       "      <td>40.768008</td>\n",
       "      <td>-73.956655</td>\n",
       "      <td>40.783762</td>\n",
       "      <td>1</td>\n",
       "      <td>0.019470</td>\n",
       "    </tr>\n",
       "  </tbody>\n",
       "</table>\n",
       "</div>"
      ],
      "text/plain": [
       "                             key  fare_amount          pickup_datetime  \\\n",
       "0    2009-06-15 17:26:21.0000001          4.5  2009-06-15 17:26:21 UTC   \n",
       "1    2010-01-05 16:52:16.0000002         16.9  2010-01-05 16:52:16 UTC   \n",
       "2   2011-08-18 00:35:00.00000049          5.7  2011-08-18 00:35:00 UTC   \n",
       "3    2012-04-21 04:30:42.0000001          7.7  2012-04-21 04:30:42 UTC   \n",
       "4  2010-03-09 07:51:00.000000135          5.3  2010-03-09 07:51:00 UTC   \n",
       "\n",
       "   pickup_longitude  pickup_latitude  dropoff_longitude  dropoff_latitude  \\\n",
       "0        -73.844311        40.721319         -73.841610         40.712278   \n",
       "1        -74.016048        40.711303         -73.979268         40.782004   \n",
       "2        -73.982738        40.761270         -73.991242         40.750562   \n",
       "3        -73.987130        40.733143         -73.991567         40.758092   \n",
       "4        -73.968095        40.768008         -73.956655         40.783762   \n",
       "\n",
       "   passenger_count  euclidean_distance  \n",
       "0                1            0.009436  \n",
       "1                1            0.079696  \n",
       "2                2            0.013674  \n",
       "3                1            0.025340  \n",
       "4                1            0.019470  "
      ]
     },
     "execution_count": 18,
     "metadata": {},
     "output_type": "execute_result"
    }
   ],
   "source": [
    "from taxi_package.distances import euclidean # Import the Euclidean function from the package\n",
    "\n",
    "data['euclidean_distance'] = euclidean(data.pickup_longitude,\n",
    "                                      data.pickup_latitude,\n",
    "                                      data.dropoff_longitude,\n",
    "                                      data.dropoff_latitude)\n",
    "\n",
    "data.head()"
   ]
  },
  {
   "cell_type": "markdown",
   "id": "e2dd0e81",
   "metadata": {
    "hidden": true
   },
   "source": [
    "Or you can run your script in the terminal"
   ]
  },
  {
   "cell_type": "markdown",
   "id": "e2989fad",
   "metadata": {
    "hidden": true
   },
   "source": [
    "```bash\n",
    "me-2-manhattan\n",
    "```"
   ]
  },
  {
   "cell_type": "markdown",
   "id": "97bf345c",
   "metadata": {
    "heading_collapsed": true
   },
   "source": [
    "## Test the package"
   ]
  },
  {
   "cell_type": "markdown",
   "id": "5c714788",
   "metadata": {
    "hidden": true
   },
   "source": [
    "Create a `tests` folder in the root directory in which you add **one .py for function you want to test.**"
   ]
  },
  {
   "cell_type": "markdown",
   "id": "a038a805",
   "metadata": {
    "hidden": true
   },
   "source": [
    "### `test_manhattan.py`"
   ]
  },
  {
   "cell_type": "markdown",
   "id": "84de05e4",
   "metadata": {
    "hidden": true
   },
   "source": [
    "```python\n",
    "from taxi_package.distances import manhattan\n",
    "\n",
    "def test_manhattan():\n",
    "\n",
    "    assert manhattan(0, 0, 0, 0) == 0\n",
    "```"
   ]
  },
  {
   "cell_type": "markdown",
   "id": "10b527f1",
   "metadata": {
    "hidden": true
   },
   "source": [
    "### `test_euclidean.py`"
   ]
  },
  {
   "cell_type": "markdown",
   "id": "0b2d330f",
   "metadata": {
    "hidden": true
   },
   "source": [
    "```python\n",
    "from taxi_package.distances import euclidean\n",
    "\n",
    "def test_euclidean():\n",
    "\n",
    "    assert euclidean(0, 0, 0, 0) == 0\n",
    "```"
   ]
  },
  {
   "cell_type": "markdown",
   "id": "593fd896",
   "metadata": {
    "hidden": true
   },
   "source": [
    "### Create a `test` command in the `Makefile`"
   ]
  },
  {
   "cell_type": "markdown",
   "id": "188b4ebf",
   "metadata": {
    "hidden": true
   },
   "source": [
    "This will allow you to run all the tests in one go from the terminal."
   ]
  },
  {
   "cell_type": "markdown",
   "id": "f663c983",
   "metadata": {
    "hidden": true
   },
   "source": [
    "``` bash\n",
    "test:\n",
    "    @coverage run -m pytest tests/*.py\n",
    "    @coverage report -m --omit=$(VIRTUAL_ENV)/lib/python*\n",
    "```"
   ]
  },
  {
   "cell_type": "markdown",
   "id": "d144a574",
   "metadata": {
    "hidden": true
   },
   "source": [
    "⚠️ Don't forget to add `pytest` to your `requirements.txt`"
   ]
  },
  {
   "cell_type": "markdown",
   "id": "ce3c2c71",
   "metadata": {
    "heading_collapsed": true
   },
   "source": [
    "## Share your package"
   ]
  },
  {
   "cell_type": "markdown",
   "id": "4ff05f21",
   "metadata": {
    "heading_collapsed": true,
    "hidden": true
   },
   "source": [
    "### On github"
   ]
  },
  {
   "cell_type": "markdown",
   "id": "b22ee1bb",
   "metadata": {
    "hidden": true
   },
   "source": [
    "```bash\n",
    "\n",
    "git init # Initialize repo locally\n",
    "\n",
    "gh repo create # Create a remote github repo\n",
    "\n",
    "git add . # Add all modifications\n",
    "\n",
    "git commit -m\"first commit\" # Commit all modifications\n",
    "\n",
    "git push origin master # Push all modifications to gihub repo\n",
    " \n",
    "gh browse # Open github in browser\n",
    "\n",
    "```"
   ]
  },
  {
   "cell_type": "markdown",
   "id": "5af44530",
   "metadata": {
    "hidden": true
   },
   "source": [
    "Your package can now be installed by anyone using the SSH link provided on Github"
   ]
  },
  {
   "cell_type": "markdown",
   "id": "23b45d2e",
   "metadata": {
    "hidden": true
   },
   "source": [
    "```bash\n",
    "pip install git+ssh://git@github.com/Benlecoq/all_engineering\n",
    "```"
   ]
  },
  {
   "cell_type": "markdown",
   "id": "89305491",
   "metadata": {
    "hidden": true
   },
   "source": [
    "### On Pypi"
   ]
  },
  {
   "cell_type": "markdown",
   "id": "af295004",
   "metadata": {
    "hidden": true
   },
   "source": [
    "Follow [these instructions](https://anweshadas.in/how-to-upload-a-package-in-pypi-using-twine/) to upload your package on Pypi"
   ]
  },
  {
   "cell_type": "markdown",
   "id": "20e156ad",
   "metadata": {},
   "source": [
    "## CI/CD"
   ]
  },
  {
   "cell_type": "markdown",
   "id": "f25ede05",
   "metadata": {},
   "source": [
    "### Continuous Integration"
   ]
  },
  {
   "cell_type": "markdown",
   "id": "19a6ce94",
   "metadata": {},
   "source": [
    "From your root directory, create the following folder/file structure:\n",
    "\n",
    "`.github/workflows/pythonpackage.yml`\n",
    "\n",
    "In the `pythonpackage.yml`, add the following code to orchestrate your continuous integration."
   ]
  },
  {
   "cell_type": "markdown",
   "id": "20842137",
   "metadata": {},
   "source": [
    "```yml\n",
    "name: Python package\n",
    "\n",
    "on:\n",
    "  push:\n",
    "    branches: [ master ]\n",
    "  pull_request:\n",
    "    branches: [ master ]\n",
    "\n",
    "jobs:\n",
    "\n",
    "  build:\n",
    "\n",
    "    runs-on: macos-latest\n",
    "\n",
    "    steps:\n",
    "    - uses: actions/checkout@v2\n",
    "    - name: Set up Python ${{ matrix.python-version }}\n",
    "      uses: actions/setup-python@v1\n",
    "      with:\n",
    "        python-version: ${{ matrix.python-version }}\n",
    "    - name: Install dependencies\n",
    "      run: |\n",
    "        pip install -r requirements.txt\n",
    "    - name: Install package and test\n",
    "      run: |\n",
    "        make install test\n",
    "\n",
    "    strategy:\n",
    "      matrix:\n",
    "        python-version: [3.8]\n",
    "```"
   ]
  },
  {
   "cell_type": "code",
   "execution_count": null,
   "id": "3195b3c2",
   "metadata": {},
   "outputs": [],
   "source": []
  },
  {
   "cell_type": "code",
   "execution_count": null,
   "id": "dff784d5",
   "metadata": {},
   "outputs": [],
   "source": []
  },
  {
   "cell_type": "code",
   "execution_count": null,
   "id": "054aee6b",
   "metadata": {},
   "outputs": [],
   "source": [
    "====================================================================================================================="
   ]
  },
  {
   "cell_type": "markdown",
   "id": "1b5f349a",
   "metadata": {},
   "source": [
    "END OF RECAP Day 1"
   ]
  },
  {
   "cell_type": "code",
   "execution_count": null,
   "id": "51855e2c",
   "metadata": {},
   "outputs": [],
   "source": [
    "====================================================================================================================="
   ]
  },
  {
   "cell_type": "code",
   "execution_count": null,
   "id": "c715fcf7",
   "metadata": {},
   "outputs": [],
   "source": []
  },
  {
   "cell_type": "code",
   "execution_count": null,
   "id": "bd2a191a",
   "metadata": {},
   "outputs": [],
   "source": []
  },
  {
   "cell_type": "markdown",
   "id": "38eb455b",
   "metadata": {},
   "source": [
    "# Day 2 recap"
   ]
  },
  {
   "cell_type": "markdown",
   "id": "7be88141",
   "metadata": {},
   "source": [
    "## Visualization"
   ]
  },
  {
   "cell_type": "code",
   "execution_count": null,
   "id": "5f16c64b",
   "metadata": {},
   "outputs": [],
   "source": [
    "import matplotlib.pyplot as plt\n",
    "\n",
    "plt.scatter(data.manhattan_distance,data.fare_amount)"
   ]
  },
  {
   "cell_type": "code",
   "execution_count": null,
   "id": "ac3072f3",
   "metadata": {},
   "outputs": [],
   "source": [
    "import matplotlib.pyplot as plt\n",
    "\n",
    "plt.scatter(data.euclidean_distance,data.fare_amount)"
   ]
  },
  {
   "cell_type": "markdown",
   "id": "413b73af",
   "metadata": {},
   "source": [
    "## Modelling"
   ]
  },
  {
   "cell_type": "markdown",
   "id": "edc07efe",
   "metadata": {},
   "source": [
    "### Prep X and y"
   ]
  },
  {
   "cell_type": "code",
   "execution_count": null,
   "id": "d867ce92",
   "metadata": {},
   "outputs": [],
   "source": [
    "X = data.drop(columns=['key','fare_amount','pickup_datetime'])\n",
    "X.head()"
   ]
  },
  {
   "cell_type": "code",
   "execution_count": null,
   "id": "d725ae6e",
   "metadata": {},
   "outputs": [],
   "source": [
    "y = data['fare_amount']\n",
    "y.head()"
   ]
  },
  {
   "cell_type": "markdown",
   "id": "d00a06e2",
   "metadata": {},
   "source": [
    "### Scale"
   ]
  },
  {
   "cell_type": "code",
   "execution_count": null,
   "id": "fb02c02f",
   "metadata": {},
   "outputs": [],
   "source": [
    "from sklearn.preprocessing import StandardScaler\n",
    "\n",
    "X_scaled = StandardScaler().fit_transform(X)\n",
    "\n",
    "X_scaled"
   ]
  },
  {
   "cell_type": "markdown",
   "id": "fa63f6fb",
   "metadata": {},
   "source": [
    "### Baseline Random Forest"
   ]
  },
  {
   "cell_type": "code",
   "execution_count": null,
   "id": "d1c559c9",
   "metadata": {},
   "outputs": [],
   "source": [
    "from sklearn.ensemble import RandomForestRegressor\n",
    "\n",
    "rf_model = RandomForestRegressor().fit(X_scaled,y)"
   ]
  },
  {
   "cell_type": "code",
   "execution_count": null,
   "id": "a0ddadb5",
   "metadata": {},
   "outputs": [],
   "source": []
  }
 ],
 "metadata": {
  "kernelspec": {
   "display_name": "Python 3 (ipykernel)",
   "language": "python",
   "name": "python3"
  },
  "language_info": {
   "codemirror_mode": {
    "name": "ipython",
    "version": 3
   },
   "file_extension": ".py",
   "mimetype": "text/x-python",
   "name": "python",
   "nbconvert_exporter": "python",
   "pygments_lexer": "ipython3",
   "version": "3.8.12"
  },
  "toc": {
   "base_numbering": 1,
   "nav_menu": {},
   "number_sections": true,
   "sideBar": true,
   "skip_h1_title": false,
   "title_cell": "Table of Contents",
   "title_sidebar": "Contents",
   "toc_cell": false,
   "toc_position": {},
   "toc_section_display": true,
   "toc_window_display": false
  }
 },
 "nbformat": 4,
 "nbformat_minor": 5
}
